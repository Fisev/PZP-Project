{
  "nbformat": 4,
  "nbformat_minor": 0,
  "metadata": {
    "colab": {
      "provenance": [],
      "include_colab_link": true
    },
    "kernelspec": {
      "name": "python3",
      "display_name": "Python 3"
    },
    "language_info": {
      "name": "python"
    }
  },
  "cells": [
    {
      "cell_type": "markdown",
      "metadata": {
        "id": "view-in-github",
        "colab_type": "text"
      },
      "source": [
        "<a href=\"https://colab.research.google.com/github/Fisev/PZP-Project/blob/main/Project.ipynb\" target=\"_parent\"><img src=\"https://colab.research.google.com/assets/colab-badge.svg\" alt=\"Open In Colab\"/></a>"
      ]
    },
    {
      "cell_type": "code",
      "execution_count": null,
      "metadata": {
        "id": "fmrx9fRvHJnU",
        "colab": {
          "base_uri": "https://localhost:8080/"
        },
        "outputId": "4255e2c6-ab2c-4d76-f12f-0477e783c786"
      },
      "outputs": [
        {
          "output_type": "stream",
          "name": "stdout",
          "text": [
            "Drive already mounted at /content/drive; to attempt to forcibly remount, call drive.mount(\"/content/drive\", force_remount=True).\n"
          ]
        }
      ],
      "source": [
        "from google.colab import drive\n",
        "drive.mount('/content/drive')\n",
        "\n",
        "tpc\n",
        "\n",
        "nove veci jsou pekne"
      ]
    },
    {
      "cell_type": "code",
      "source": [
        "!wget https://github.com/Fisev/PZP-Project/blob/main/data.txt -O data.txt\n",
        "!wget https://github.com/Fisev/PZP-Project/blob/main/stop_words.txt -O stop_words.txt\n",
        "#data_file_path = \"/content/drive/MyDrive/MPC-PZP/Colab Notebooks/Project/data.txt\"\n",
        "#stopW_file_path = \"/content/drive/MyDrive/MPC-PZP/Colab Notebooks/Project/stop_words.txt\"\n",
        "f_data = open(\"data.txt\", 'r')\n",
        "f_stopW = open(\"stop_words.txt\", 'r')\n",
        "\n",
        "print(f_stopW.read())\n",
        "print(f_data.read())\n",
        "f_data.close()\n",
        "f_stopW.close()\n"
      ],
      "metadata": {
        "colab": {
          "base_uri": "https://localhost:8080/",
          "height": 618
        },
        "id": "X78wP2a8VDE5",
        "outputId": "77a8d59d-c77c-4218-d81f-ec894df1a17e"
      },
      "execution_count": 1,
      "outputs": [
        {
          "output_type": "stream",
          "name": "stdout",
          "text": [
            "--2024-10-30 09:41:11--  https://github.com/Fisev/PZP-Project/blob/main/data.txt\n",
            "Resolving github.com (github.com)... 140.82.112.4\n",
            "Connecting to github.com (github.com)|140.82.112.4|:443... connected.\n",
            "HTTP request sent, awaiting response... 200 OK\n",
            "Length: unspecified [text/html]\n",
            "Saving to: ‘data.txt’\n",
            "\n",
            "data.txt                [  <=>               ]   1.49M  3.26MB/s    in 0.5s    \n",
            "\n",
            "2024-10-30 09:41:12 (3.26 MB/s) - ‘data.txt’ saved [1559035]\n",
            "\n",
            "--2024-10-30 09:41:12--  https://github.com/Fisev/PZP-Project/blob/main/stop_words.txt\n",
            "Resolving github.com (github.com)... 140.82.113.4\n",
            "Connecting to github.com (github.com)|140.82.113.4|:443... connected.\n",
            "HTTP request sent, awaiting response... 200 OK\n",
            "Length: unspecified [text/html]\n",
            "Saving to: ‘stop_words.txt’\n",
            "\n",
            "stop_words.txt          [  <=>               ] 304.33K   953KB/s    in 0.3s    \n",
            "\n",
            "2024-10-30 09:41:13 (953 KB/s) - ‘stop_words.txt’ saved [311638]\n",
            "\n"
          ]
        },
        {
          "output_type": "error",
          "ename": "NameError",
          "evalue": "name 'data' is not defined",
          "traceback": [
            "\u001b[0;31m---------------------------------------------------------------------------\u001b[0m",
            "\u001b[0;31mNameError\u001b[0m                                 Traceback (most recent call last)",
            "\u001b[0;32m<ipython-input-1-54f6e19690b6>\u001b[0m in \u001b[0;36m<cell line: 3>\u001b[0;34m()\u001b[0m\n\u001b[1;32m      1\u001b[0m \u001b[0mget_ipython\u001b[0m\u001b[0;34m(\u001b[0m\u001b[0;34m)\u001b[0m\u001b[0;34m.\u001b[0m\u001b[0msystem\u001b[0m\u001b[0;34m(\u001b[0m\u001b[0;34m'wget https://github.com/Fisev/PZP-Project/blob/main/data.txt -O data.txt'\u001b[0m\u001b[0;34m)\u001b[0m\u001b[0;34m\u001b[0m\u001b[0;34m\u001b[0m\u001b[0m\n\u001b[1;32m      2\u001b[0m \u001b[0mget_ipython\u001b[0m\u001b[0;34m(\u001b[0m\u001b[0;34m)\u001b[0m\u001b[0;34m.\u001b[0m\u001b[0msystem\u001b[0m\u001b[0;34m(\u001b[0m\u001b[0;34m'wget https://github.com/Fisev/PZP-Project/blob/main/stop_words.txt -O stop_words.txt'\u001b[0m\u001b[0;34m)\u001b[0m\u001b[0;34m\u001b[0m\u001b[0;34m\u001b[0m\u001b[0m\n\u001b[0;32m----> 3\u001b[0;31m \u001b[0mdata_file_path\u001b[0m\u001b[0;34m=\u001b[0m\u001b[0mdata\u001b[0m\u001b[0;34m.\u001b[0m\u001b[0mtxt\u001b[0m\u001b[0;34m\u001b[0m\u001b[0;34m\u001b[0m\u001b[0m\n\u001b[0m\u001b[1;32m      4\u001b[0m \u001b[0mstopW_file_path\u001b[0m\u001b[0;34m=\u001b[0m\u001b[0mstop_words\u001b[0m\u001b[0;34m.\u001b[0m\u001b[0mtxt\u001b[0m\u001b[0;34m\u001b[0m\u001b[0;34m\u001b[0m\u001b[0m\n\u001b[1;32m      5\u001b[0m \u001b[0;31m#data_file_path = \"/content/drive/MyDrive/MPC-PZP/Colab Notebooks/Project/data.txt\"\u001b[0m\u001b[0;34m\u001b[0m\u001b[0;34m\u001b[0m\u001b[0m\n",
            "\u001b[0;31mNameError\u001b[0m: name 'data' is not defined"
          ]
        }
      ]
    }
  ]
}
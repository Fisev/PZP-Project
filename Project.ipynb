{
  "nbformat": 4,
  "nbformat_minor": 0,
  "metadata": {
    "colab": {
      "provenance": [],
      "include_colab_link": true
    },
    "kernelspec": {
      "name": "python3",
      "display_name": "Python 3"
    },
    "language_info": {
      "name": "python"
    }
  },
  "cells": [
    {
      "cell_type": "markdown",
      "metadata": {
        "id": "view-in-github",
        "colab_type": "text"
      },
      "source": [
        "<a href=\"https://colab.research.google.com/github/Fisev/PZP-Project/blob/main/Project.ipynb\" target=\"_parent\"><img src=\"https://colab.research.google.com/assets/colab-badge.svg\" alt=\"Open In Colab\"/></a>"
      ]
    },
    {
      "cell_type": "code",
      "execution_count": null,
      "metadata": {
        "id": "fmrx9fRvHJnU",
        "colab": {
          "base_uri": "https://localhost:8080/"
        },
        "outputId": "4255e2c6-ab2c-4d76-f12f-0477e783c786"
      },
      "outputs": [
        {
          "output_type": "stream",
          "name": "stdout",
          "text": [
            "Drive already mounted at /content/drive; to attempt to forcibly remount, call drive.mount(\"/content/drive\", force_remount=True).\n"
          ]
        }
      ],
      "source": [
        "from google.colab import drive\n",
        "drive.mount('/content/drive')\n",
        "\n",
        "tpc\n",
        "\n",
        "nove veci jsou pekne"
      ]
    },
    {
      "cell_type": "code",
      "source": [
        "!wget https://raw.githubusercontent.com/Fisev/PZP-Project/refs/heads/main/data.txt -O data.txt\n",
        "!wget https://raw.githubusercontent.com/Fisev/PZP-Project/refs/heads/main/stop_words.txt -O stop_words.txt\n",
        "\n",
        "f_data = open(\"data.txt\", 'r')\n",
        "f_stopW = open(\"stop_words.txt\", 'r')\n",
        "\n",
        "print(f_stopW.read())\n",
        "print(f_data.read())\n",
        "f_data.close()\n",
        "f_stopW.close()\n"
      ],
      "metadata": {
        "id": "X78wP2a8VDE5"
      },
      "execution_count": null,
      "outputs": []
    }
  ]
}